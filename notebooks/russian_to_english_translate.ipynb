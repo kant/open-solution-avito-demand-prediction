{
 "cells": [
  {
   "cell_type": "code",
   "execution_count": null,
   "metadata": {},
   "outputs": [],
   "source": [
    "import sys\n",
    "\n",
    "import joblib\n",
    "import numpy as np\n",
    "import pandas as pd\n",
    "import textblob\n",
    "from tqdm import tqdm,tqdm_pandas\n",
    "\n",
    "sys.path.append('../')\n",
    "from steps.base import BaseTransformer\n",
    "\n",
    "EXPERIMENT_DIR = '/mnt/ml-team/minerva/avito/paulina/output/fun'"
   ]
  },
  {
   "cell_type": "code",
   "execution_count": null,
   "metadata": {},
   "outputs": [],
   "source": [
    "df_train = pd.read_csv('/mnt/ml-team/minerva/avito/data/train.csv', nrows=1000)"
   ]
  },
  {
   "cell_type": "code",
   "execution_count": null,
   "metadata": {},
   "outputs": [],
   "source": [
    "df_train.shape"
   ]
  },
  {
   "cell_type": "code",
   "execution_count": null,
   "metadata": {},
   "outputs": [],
   "source": [
    "df_train.head()"
   ]
  },
  {
   "cell_type": "code",
   "execution_count": null,
   "metadata": {},
   "outputs": [],
   "source": [
    "class Translate(BaseTransformer):\n",
    "    def __init__(self, cols_to_translate=[]):\n",
    "        self.cols_to_translate = cols_to_translate\n",
    "\n",
    "    @property\n",
    "    def translate_names(self):\n",
    "        translate_names = ['{}_en'.format(col) for col in self.cols_to_translate]\n",
    "        return translate_names\n",
    "\n",
    "    def transform(self, categorical_features):\n",
    "        for col, translate_name in zip(self.cols_to_translate, self.translate_names):\n",
    "            \n",
    "            categorical_features[col].fillna('недостающий',inplace=True)  # missing\n",
    "            tqdm.pandas(tqdm())\n",
    "            categorical_features[translate_name] = categorical_features[col].progress_map(self._translate)\n",
    "            \n",
    "        return {'categorical_features': categorical_features[self.translate_names]}\n",
    "\n",
    "    def _translate(self, x):\n",
    "            try:\n",
    "                return str(textblob.TextBlob(x).translate(to='en'))\n",
    "            except:\n",
    "                return x\n",
    "        "
   ]
  },
  {
   "cell_type": "code",
   "execution_count": null,
   "metadata": {},
   "outputs": [],
   "source": [
    "t = Translate(['city', 'category_name'])"
   ]
  },
  {
   "cell_type": "code",
   "execution_count": null,
   "metadata": {
    "scrolled": true
   },
   "outputs": [],
   "source": [
    "transform = t.transform(df_train)"
   ]
  },
  {
   "cell_type": "code",
   "execution_count": null,
   "metadata": {},
   "outputs": [],
   "source": [
    "transform['categorical_features'].head()"
   ]
  },
  {
   "cell_type": "code",
   "execution_count": null,
   "metadata": {},
   "outputs": [],
   "source": []
  }
 ],
 "metadata": {
  "kernelspec": {
   "display_name": "Python 3",
   "language": "python",
   "name": "python3"
  },
  "language_info": {
   "codemirror_mode": {
    "name": "ipython",
    "version": 3
   },
   "file_extension": ".py",
   "mimetype": "text/x-python",
   "name": "python",
   "nbconvert_exporter": "python",
   "pygments_lexer": "ipython3",
   "version": "3.5.2"
  }
 },
 "nbformat": 4,
 "nbformat_minor": 2
}
