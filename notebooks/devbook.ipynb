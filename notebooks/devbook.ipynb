{
 "cells": [
  {
   "cell_type": "code",
   "execution_count": null,
   "metadata": {},
   "outputs": [],
   "source": [
    "%load_ext autoreload\n",
    "%autoreload 2\n",
    "%matplotlib inline\n",
    "import os\n",
    "import sys\n",
    "\n",
    "import matplotlib.pyplot as plt\n",
    "import numpy as np\n",
    "import pandas as pd\n",
    "import seaborn as sns\n",
    "from sklearn.externals import joblib\n",
    "from sklearn import metrics\n",
    "import lightgbm as lgb\n",
    "\n",
    "sys.path.append('../')\n",
    "from pipelines import main\n",
    "import pipeline_config as cfg\n",
    "\n",
    "EXPERIMENT_DIR = 'YOUR/PATH/TO/EXPERIMETS'"
   ]
  },
  {
   "cell_type": "markdown",
   "metadata": {},
   "source": [
    "# Solution 1\n",
    "\n",
    "Local CV: **0.2278**\n",
    "Public LB: **0.2351**"
   ]
  },
  {
   "cell_type": "code",
   "execution_count": null,
   "metadata": {},
   "outputs": [],
   "source": [
    "main(cfg.SOLUTION_CONFIG, train_mode=False)"
   ]
  },
  {
   "cell_type": "markdown",
   "metadata": {},
   "source": [
    "## Feature Extraction\n",
    "* price features - for now just the price value\n",
    "* target encoded features - likelihood encoding for categorical features\n",
    "* groupby aggregations - features calculated based on aggregated categories\n",
    "\n",
    "```python\n",
    "    'groupby_aggregation': {'groupby_aggregations': [\n",
    "        {'groupby': ['user_id'], 'select': 'price', 'agg': 'mean'},\n",
    "        {'groupby': ['user_id'], 'select': 'price', 'agg': 'var'},\n",
    "        {'groupby': ['user_id'], 'select': 'parent_category_name', 'agg': 'nunique'},\n",
    "        {'groupby': ['parent_category_name'], 'select': 'price', 'agg': 'mean'},\n",
    "        {'groupby': ['parent_category_name'], 'select': 'price', 'agg': 'var'},\n",
    "        {'groupby': ['parent_category_name', 'category_name'], 'select': 'price', 'agg': 'mean'},\n",
    "        {'groupby': ['parent_category_name', 'category_name'], 'select': 'price', 'agg': 'var'},\n",
    "        {'groupby': ['region'], 'select': 'parent_category_name', 'agg': 'count'},\n",
    "        {'groupby': ['city'], 'select': 'parent_category_name', 'agg': 'count'},\n",
    "    ]},\n",
    "```\n",
    "\n",
    "## Models\n",
    "* lightgbm with the following parameters\n",
    "\n",
    "```yaml\n",
    "  lgbm_random_search_runs: 0\n",
    "  lgbm__boosting_type: 'gbdt'\n",
    "  lgbm__objective: regression\n",
    "  lgbm__metric: RMSE\n",
    "  lgbm__number_boosting_rounds: 300\n",
    "  lgbm__early_stopping_rounds: 30\n",
    "  lgbm__learning_rate: 0.05\n",
    "  lgbm__num_leaves: 77\n",
    "  lgbm__max_depth: 11\n",
    "  lgbm__min_child_samples: 44\n",
    "  lgbm__max_bin: 379\n",
    "  lgbm__subsample: 0.82\n",
    "  lgbm__subsample_freq: 2\n",
    "  lgbm__colsample_bytree: 0.27\n",
    "  lgbm__min_child_weight: 4\n",
    "  lgbm__reg_lambda: 0.0\n",
    "  lgbm__reg_alpha: 0.1\n",
    "```"
   ]
  },
  {
   "cell_type": "markdown",
   "metadata": {},
   "source": [
    "## Result Exploration"
   ]
  },
  {
   "cell_type": "code",
   "execution_count": null,
   "metadata": {},
   "outputs": [],
   "source": [
    "prediction_filepath = os.path.join(EXPERIMENT_DIR, 'solution_1', 'evaluation_predictions.csv')\n",
    "evaluation_predictions =  pd.read_csv(prediction_filepath)"
   ]
  },
  {
   "cell_type": "code",
   "execution_count": null,
   "metadata": {},
   "outputs": [],
   "source": [
    "top_n = 100\n",
    "best_predictions = evaluation_predictions.sort_values('score', ascending=True)[:top_n]\n",
    "worst_predictions = evaluation_predictions.sort_values('score', ascending=False)[:top_n]"
   ]
  },
  {
   "cell_type": "code",
   "execution_count": null,
   "metadata": {},
   "outputs": [],
   "source": [
    "worst_predictions.head(3)"
   ]
  },
  {
   "cell_type": "markdown",
   "metadata": {},
   "source": [
    "## Model exploration"
   ]
  },
  {
   "cell_type": "code",
   "execution_count": null,
   "metadata": {},
   "outputs": [],
   "source": [
    "model_filepath = os.path.join(EXPERIMENT_DIR, 'solution_2', 'transformers','light_gbm')\n",
    "light_gbm_model = joblib.load(model_filepath)"
   ]
  },
  {
   "cell_type": "markdown",
   "metadata": {},
   "source": [
    "### Learning Curve"
   ]
  },
  {
   "cell_type": "code",
   "execution_count": null,
   "metadata": {},
   "outputs": [],
   "source": [
    "ax = lgb.plot_metric(light_gbm_model['evals_result'], metric='rmse')\n",
    "plt.show()"
   ]
  },
  {
   "cell_type": "markdown",
   "metadata": {},
   "source": [
    "### Feature Importance"
   ]
  },
  {
   "cell_type": "code",
   "execution_count": null,
   "metadata": {},
   "outputs": [],
   "source": [
    "ax = lgb.plot_importance(light_gbm_model['estimator'], max_num_features=20)\n",
    "plt.show()"
   ]
  },
  {
   "cell_type": "code",
   "execution_count": null,
   "metadata": {},
   "outputs": [],
   "source": []
  }
 ],
 "metadata": {
  "kernelspec": {
   "display_name": "cpu py3",
   "language": "python",
   "name": "cpu_py3"
  },
  "language_info": {
   "codemirror_mode": {
    "name": "ipython",
    "version": 3
   },
   "file_extension": ".py",
   "mimetype": "text/x-python",
   "name": "python",
   "nbconvert_exporter": "python",
   "pygments_lexer": "ipython3",
   "version": "3.5.2"
  }
 },
 "nbformat": 4,
 "nbformat_minor": 2
}
